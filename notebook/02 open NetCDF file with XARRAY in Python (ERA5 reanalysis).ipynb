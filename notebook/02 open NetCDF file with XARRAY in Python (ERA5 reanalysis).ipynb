{
 "cells": [
  {
   "cell_type": "markdown",
   "metadata": {},
   "source": [
    "# 01 Open NetCDF file (ERA5 reanalysis)"
   ]
  },
  {
   "cell_type": "markdown",
   "metadata": {},
   "source": [
    "In this notebook, I will quickly demonstrate how we can:\n",
    "\n",
    "- open a netcdf file (ERA5 reanalysis) \n",
    "- export a value from the NetCDF file into the CSV file\n",
    "\n",
    "There are a number of Python libraries to open and process the NetCDF files such as xarray, netCDF4. \n",
    "- the netCDF4 (covered in another video)\n",
    "- xarray\n",
    "\n",
    "Please refer to the following about the python libraries if interested.\n",
    "\n",
    "Useful links:\n",
    "http://xarray.pydata.org/en/stable/\n",
    "https://unidata.github.io/netcdf4-python/netCDF4/index.html\n",
    "\n",
    "Here is the link to download the data that I am using in this notebook\n",
    "https://drive.google.com/open?id=18sG05s6kOE3N5ta1ChcheLxVQlUQw1Iq\n",
    "\n",
    "Acknowledgement:\n",
    "https://www.ecmwf.int/en/forecasts/datasets/reanalysis-datasets/era5"
   ]
  },
  {
   "cell_type": "raw",
   "metadata": {},
   "source": [
    "Ok !!! Now started !!!!"
   ]
  },
  {
   "cell_type": "code",
   "execution_count": 1,
   "metadata": {},
   "outputs": [
    {
     "name": "stdout",
     "output_type": "stream",
     "text": [
      "all libraries are loaded\n"
     ]
    }
   ],
   "source": [
    "# first import libraries\n",
    "import xarray as xr\n",
    "import numpy as np\n",
    "import pandas as pd\n",
    "print('all libraries are loaded')"
   ]
  },
  {
   "cell_type": "code",
   "execution_count": 2,
   "metadata": {},
   "outputs": [],
   "source": [
    "# specify where is the location of the data\n",
    "path_in = \"data/\"\n",
    "path_out = \"./\""
   ]
  },
  {
   "cell_type": "code",
   "execution_count": 3,
   "metadata": {},
   "outputs": [],
   "source": [
    "# open the data\n",
    "df = xr.open_dataset(path_in + 'ERA5_reanalysis.nc')"
   ]
  },
  {
   "cell_type": "code",
   "execution_count": 4,
   "metadata": {},
   "outputs": [
    {
     "name": "stdout",
     "output_type": "stream",
     "text": [
      "<xarray.Dataset>\n",
      "Dimensions:    (latitude: 721, level: 10, longitude: 1440, time: 2)\n",
      "Coordinates:\n",
      "  * longitude  (longitude) float32 0.0 0.25 0.5 0.75 ... 359.25 359.5 359.75\n",
      "  * latitude   (latitude) float32 90.0 89.75 89.5 89.25 ... -89.5 -89.75 -90.0\n",
      "  * level      (level) int32 1 7 50 150 250 450 650 800 900 1000\n",
      "  * time       (time) datetime64[ns] 2020-03-10 2020-03-10T06:00:00\n",
      "Data variables:\n",
      "    r          (time, level, latitude, longitude) float32 ...\n",
      "    t          (time, level, latitude, longitude) float32 ...\n",
      "    u          (time, level, latitude, longitude) float32 ...\n",
      "    v          (time, level, latitude, longitude) float32 ...\n",
      "Attributes:\n",
      "    Conventions:  CF-1.6\n",
      "    history:      2020-03-20 00:22:45 GMT by grib_to_netcdf-2.16.0: /opt/ecmw...\n"
     ]
    }
   ],
   "source": [
    "# look at the data to see what it is\n",
    "print(df)"
   ]
  },
  {
   "cell_type": "code",
   "execution_count": 5,
   "metadata": {},
   "outputs": [
    {
     "name": "stdout",
     "output_type": "stream",
     "text": [
      "Coordinates:\n",
      "  * longitude  (longitude) float32 0.0 0.25 0.5 0.75 ... 359.25 359.5 359.75\n",
      "  * latitude   (latitude) float32 90.0 89.75 89.5 89.25 ... -89.5 -89.75 -90.0\n",
      "  * level      (level) int32 1 7 50 150 250 450 650 800 900 1000\n",
      "  * time       (time) datetime64[ns] 2020-03-10 2020-03-10T06:00:00\n"
     ]
    }
   ],
   "source": [
    "print(df.coords)"
   ]
  },
  {
   "cell_type": "code",
   "execution_count": 6,
   "metadata": {},
   "outputs": [
    {
     "name": "stdout",
     "output_type": "stream",
     "text": [
      "Frozen(SortedKeysDict({'longitude': 1440, 'latitude': 721, 'level': 10, 'time': 2}))\n"
     ]
    }
   ],
   "source": [
    "print(df.dims)"
   ]
  },
  {
   "cell_type": "code",
   "execution_count": 7,
   "metadata": {},
   "outputs": [
    {
     "name": "stdout",
     "output_type": "stream",
     "text": [
      "{'Conventions': 'CF-1.6', 'history': '2020-03-20 00:22:45 GMT by grib_to_netcdf-2.16.0: /opt/ecmwf/eccodes/bin/grib_to_netcdf -S param -o /cache/data2/adaptor.mars.internal-1584663762.9685905-23199-34-0e48a986-23ab-4f27-a5c4-2f3a006314b0.nc /cache/tmp/0e48a986-23ab-4f27-a5c4-2f3a006314b0-adaptor.mars.internal-1584663762.9691193-23199-7-tmp.grib'}\n"
     ]
    }
   ],
   "source": [
    "# print to see what dimensions the NetCDF has\n",
    "print(df.attrs)"
   ]
  },
  {
   "cell_type": "code",
   "execution_count": 8,
   "metadata": {},
   "outputs": [],
   "source": [
    "# extract the temperature from the data\n",
    "temp = df['t']"
   ]
  },
  {
   "cell_type": "code",
   "execution_count": 9,
   "metadata": {},
   "outputs": [
    {
     "name": "stdout",
     "output_type": "stream",
     "text": [
      "<xarray.DataArray 't' (time: 2, level: 10, latitude: 721, longitude: 1440)>\n",
      "[20764800 values with dtype=float32]\n",
      "Coordinates:\n",
      "  * longitude  (longitude) float32 0.0 0.25 0.5 0.75 ... 359.25 359.5 359.75\n",
      "  * latitude   (latitude) float32 90.0 89.75 89.5 89.25 ... -89.5 -89.75 -90.0\n",
      "  * level      (level) int32 1 7 50 150 250 450 650 800 900 1000\n",
      "  * time       (time) datetime64[ns] 2020-03-10 2020-03-10T06:00:00\n",
      "Attributes:\n",
      "    units:          K\n",
      "    long_name:      Temperature\n",
      "    standard_name:  air_temperature\n"
     ]
    }
   ],
   "source": [
    "# print the temperature variable\n",
    "print(temp)"
   ]
  },
  {
   "cell_type": "code",
   "execution_count": 10,
   "metadata": {},
   "outputs": [],
   "source": [
    "# extract the temperature from the data\n",
    "temp_ = df.t.values"
   ]
  },
  {
   "cell_type": "code",
   "execution_count": 11,
   "metadata": {},
   "outputs": [
    {
     "name": "stdout",
     "output_type": "stream",
     "text": [
      "[[[[256.88995 256.88995 256.88995 ... 256.88995 256.88995 256.88995]\n",
      "   [256.34045 256.34045 256.34045 ... 256.34045 256.34045 256.34045]\n",
      "   [255.949   255.949   255.949   ... 255.94711 255.94711 255.949  ]\n",
      "   ...\n",
      "   [258.68533 258.6872  258.6872  ... 258.68155 258.68344 258.68533]\n",
      "   [259.0711  259.0711  259.0711  ... 259.06924 259.06924 259.0711 ]\n",
      "   [259.4042  259.4042  259.4042  ... 259.4042  259.4042  259.4042 ]]\n",
      "\n",
      "  [[230.19673 230.19673 230.19673 ... 230.19673 230.19673 230.19673]\n",
      "   [230.03677 230.0349  230.033   ... 230.04054 230.03865 230.03677]\n",
      "   [229.82411 229.82224 229.82036 ... 229.83165 229.82976 229.826  ]\n",
      "   ...\n",
      "   [230.7632  230.76508 230.76508 ... 230.75943 230.76132 230.76132]\n",
      "   [230.88176 230.88176 230.88176 ... 230.87988 230.88176 230.88176]\n",
      "   [230.98526 230.98526 230.98526 ... 230.98526 230.98526 230.98526]]\n",
      "\n",
      "  [[193.39758 193.39758 193.39758 ... 193.39758 193.39758 193.39758]\n",
      "   [193.60648 193.60648 193.60648 ... 193.60648 193.60648 193.60648]\n",
      "   [193.80972 193.80972 193.80972 ... 193.8116  193.8116  193.8116 ]\n",
      "   ...\n",
      "   [224.9311  224.933   224.933   ... 224.92923 224.92923 224.9311 ]\n",
      "   [225.04027 225.04027 225.04027 ... 225.03838 225.03838 225.03838]\n",
      "   [225.16258 225.16258 225.16258 ... 225.16258 225.16258 225.16258]]\n",
      "\n",
      "  ...\n",
      "\n",
      "  [[246.16487 246.16487 246.16487 ... 246.16487 246.16487 246.16487]\n",
      "   [246.41518 246.41518 246.41518 ... 246.4114  246.4114  246.4114 ]\n",
      "   [246.61089 246.61278 246.61465 ... 246.60713 246.60901 246.61089]\n",
      "   ...\n",
      "   [238.87805 238.8724  238.86865 ... 238.89311 238.88747 238.8837 ]\n",
      "   [238.96086 238.95709 238.95522 ... 238.9665  238.96463 238.96274]\n",
      "   [239.0079  239.0079  239.0079  ... 239.0079  239.0079  239.0079 ]]\n",
      "\n",
      "  [[245.74709 245.74709 245.74709 ... 245.74709 245.74709 245.74709]\n",
      "   [245.22768 245.22955 245.23145 ... 245.2239  245.2239  245.2258 ]\n",
      "   [244.808   244.80989 244.81177 ... 244.80235 244.80424 244.80612]\n",
      "   ...\n",
      "   [244.31117 244.30365 244.29988 ... 244.32623 244.32059 244.31494]\n",
      "   [244.37704 244.37517 244.37328 ... 244.38457 244.38269 244.37892]\n",
      "   [244.43727 244.43727 244.43727 ... 244.43727 244.43727 244.43727]]\n",
      "\n",
      "  [[246.4547  246.4547  246.4547  ... 246.4547  246.4547  246.4547 ]\n",
      "   [244.30742 244.31117 244.31494 ... 244.298   244.30177 244.30553]\n",
      "   [242.7774  242.78117 242.78682 ... 242.768   242.77176 242.77365]\n",
      "   ...\n",
      "   [249.26253 249.25688 249.25124 ... 249.27946 249.27382 249.26817]\n",
      "   [249.33592 249.33403 249.33215 ... 249.34532 249.34344 249.34157]\n",
      "   [249.37167 249.37167 249.37167 ... 249.37167 249.37167 249.37167]]]\n",
      "\n",
      "\n",
      " [[[258.9394  258.9394  258.9394  ... 258.9394  258.9394  258.9394 ]\n",
      "   [258.59686 258.595   258.595   ... 258.59686 258.59686 258.59686]\n",
      "   [258.31458 258.3127  258.3127  ... 258.31647 258.31647 258.31647]\n",
      "   ...\n",
      "   [259.1765  259.17838 259.17838 ... 259.17462 259.17462 259.1765 ]\n",
      "   [259.3308  259.3308  259.3308  ... 259.32895 259.32895 259.32895]\n",
      "   [259.47195 259.47195 259.47195 ... 259.47195 259.47195 259.47195]]\n",
      "\n",
      "  [[231.73239 231.73239 231.73239 ... 231.73239 231.73239 231.73239]\n",
      "   [231.67404 231.67404 231.67404 ... 231.67593 231.67593 231.67593]\n",
      "   [231.5235  231.5216  231.51973 ... 231.52538 231.52538 231.5235 ]\n",
      "   ...\n",
      "   [231.15088 231.14899 231.14899 ... 231.15463 231.15276 231.15088]\n",
      "   [230.96268 230.9608  230.9608  ... 230.96457 230.96457 230.96268]\n",
      "   [230.82907 230.82907 230.82907 ... 230.82907 230.82907 230.82907]]\n",
      "\n",
      "  [[192.8537  192.8537  192.8537  ... 192.8537  192.8537  192.8537 ]\n",
      "   [192.87439 192.87439 192.87439 ... 192.87628 192.87439 192.87439]\n",
      "   [192.94968 192.94968 192.94968 ... 192.95155 192.95155 192.94968]\n",
      "   ...\n",
      "   [224.97627 224.97816 224.97816 ... 224.9744  224.97627 224.97627]\n",
      "   [225.05156 225.05156 225.05344 ... 225.05156 225.05156 225.05156]\n",
      "   [225.14189 225.14189 225.14189 ... 225.14189 225.14189 225.14189]]\n",
      "\n",
      "  ...\n",
      "\n",
      "  [[246.84613 246.84613 246.84613 ... 246.84613 246.84613 246.84613]\n",
      "   [246.37376 246.37564 246.37564 ... 246.37376 246.37376 246.37376]\n",
      "   [245.97292 245.9748  245.9748  ... 245.97104 245.97104 245.97292]\n",
      "   ...\n",
      "   [238.39252 238.38876 238.385   ... 238.40381 238.40005 238.39629]\n",
      "   [238.48662 238.48474 238.48285 ... 238.49226 238.49039 238.4885 ]\n",
      "   [238.48474 238.48474 238.48474 ... 238.48474 238.48474 238.48474]]\n",
      "\n",
      "  [[247.454   247.454   247.454   ... 247.454   247.454   247.454  ]\n",
      "   [246.60713 246.60713 246.60713 ... 246.60713 246.60713 246.60713]\n",
      "   [246.05573 246.05573 246.05573 ... 246.05196 246.05196 246.05573]\n",
      "   ...\n",
      "   [243.79741 243.79364 243.788   ... 243.81058 243.80682 243.80118]\n",
      "   [243.89339 243.89151 243.89151 ... 243.89903 243.89716 243.89526]\n",
      "   [243.88022 243.88022 243.88022 ... 243.88022 243.88022 243.88022]]\n",
      "\n",
      "  [[250.04164 250.04164 250.04164 ... 250.04164 250.04164 250.04164]\n",
      "   [249.44507 249.44695 249.44884 ... 249.43755 249.4413  249.44319]\n",
      "   [248.21617 248.2237  248.22934 ... 248.19923 248.20488 248.21053]\n",
      "   ...\n",
      "   [248.72241 248.71677 248.71112 ... 248.73746 248.73181 248.72617]\n",
      "   [248.8165  248.81462 248.81274 ... 248.82214 248.82027 248.81839]\n",
      "   [248.82779 248.82779 248.82779 ... 248.82779 248.82779 248.82779]]]]\n"
     ]
    }
   ],
   "source": [
    "# print to see temp_'s values\n",
    "print(temp_)"
   ]
  },
  {
   "cell_type": "code",
   "execution_count": 12,
   "metadata": {},
   "outputs": [
    {
     "name": "stdout",
     "output_type": "stream",
     "text": [
      "(2, 10, 721, 1440)\n"
     ]
    }
   ],
   "source": [
    "# print to the shape of the temperature array\n",
    "print(temp_.shape)"
   ]
  },
  {
   "cell_type": "raw",
   "metadata": {},
   "source": [
    "The dimension of the temperature variables is (2, 10, 721, 1440)\n",
    "2 times step; 10 vertical levels, 721 latitude grid points, 1440 longtitude grid points"
   ]
  },
  {
   "cell_type": "code",
   "execution_count": 13,
   "metadata": {},
   "outputs": [],
   "source": [
    "# pick a temperature value at one grid point (1 time step, all vertical levels)\n",
    "new_temp = temp_[0,:,90,500]"
   ]
  },
  {
   "cell_type": "code",
   "execution_count": 14,
   "metadata": {},
   "outputs": [
    {
     "name": "stdout",
     "output_type": "stream",
     "text": [
      "[262.94788 231.595   193.74573 202.00362 205.45695 220.11903 235.73337\n",
      " 243.7786  248.20111 251.30254]\n"
     ]
    }
   ],
   "source": [
    "# print to see what it has\n",
    "print(new_temp)"
   ]
  },
  {
   "cell_type": "code",
   "execution_count": 15,
   "metadata": {},
   "outputs": [
    {
     "name": "stdout",
     "output_type": "stream",
     "text": [
      "[262.95 231.6  193.75 202.   205.46 220.12 235.73 243.78 248.2  251.3 ]\n"
     ]
    }
   ],
   "source": [
    "print(np.round(new_temp,2))"
   ]
  },
  {
   "cell_type": "code",
   "execution_count": 16,
   "metadata": {},
   "outputs": [
    {
     "name": "stdout",
     "output_type": "stream",
     "text": [
      "(10,)\n"
     ]
    }
   ],
   "source": [
    "print(new_temp.shape)"
   ]
  },
  {
   "cell_type": "markdown",
   "metadata": {},
   "source": [
    "the shape of temperature array is 10 which is corresponding to the number of vertical level"
   ]
  },
  {
   "cell_type": "markdown",
   "metadata": {},
   "source": [
    "# Now we will export this temperature array to CSV file"
   ]
  },
  {
   "cell_type": "code",
   "execution_count": 17,
   "metadata": {},
   "outputs": [],
   "source": [
    "# just index\n",
    "ind            = np.arange(0, len(new_temp))\n",
    "# make a Python dictionary\n",
    "our_dictionary = {'ind' : ind, 'temp': np.round(new_temp,2)}\n",
    "df_out         = pd.DataFrame(our_dictionary, columns=['ind', 'temp'])\n",
    "# export to CSV\n",
    "export_csv     = df_out.to_csv(path_out +'temperature_xarray.csv', index=None, header=True)"
   ]
  },
  {
   "cell_type": "markdown",
   "metadata": {},
   "source": [
    "# Now we will open this CSV file again"
   ]
  },
  {
   "cell_type": "code",
   "execution_count": 18,
   "metadata": {},
   "outputs": [],
   "source": [
    "# Open the CSV file\n",
    "df_csv = pd.read_csv(path_out + 'temperature_xarray.csv')"
   ]
  },
  {
   "cell_type": "code",
   "execution_count": 19,
   "metadata": {},
   "outputs": [
    {
     "name": "stdout",
     "output_type": "stream",
     "text": [
      "   ind    temp\n",
      "0    0  262.95\n",
      "1    1  231.60\n",
      "2    2  193.75\n",
      "3    3  202.00\n",
      "4    4  205.46\n",
      "5    5  220.12\n",
      "6    6  235.73\n",
      "7    7  243.78\n",
      "8    8  248.20\n",
      "9    9  251.30\n"
     ]
    }
   ],
   "source": [
    "print(df_csv)"
   ]
  },
  {
   "cell_type": "markdown",
   "metadata": {},
   "source": [
    "# All done !!!"
   ]
  },
  {
   "cell_type": "markdown",
   "metadata": {},
   "source": [
    "- Please feel free to let me know if there is any analysis that you would like me to do or instruct\n",
    "- Please subscribe my youtube too\n",
    "- Thank you very much"
   ]
  }
 ],
 "metadata": {
  "kernelspec": {
   "display_name": "Python 3",
   "language": "python",
   "name": "python3"
  },
  "language_info": {
   "codemirror_mode": {
    "name": "ipython",
    "version": 3
   },
   "file_extension": ".py",
   "mimetype": "text/x-python",
   "name": "python",
   "nbconvert_exporter": "python",
   "pygments_lexer": "ipython3",
   "version": "3.7.7"
  }
 },
 "nbformat": 4,
 "nbformat_minor": 4
}
